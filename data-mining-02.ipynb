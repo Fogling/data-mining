{
 "cells": [
  {
   "cell_type": "markdown",
   "id": "1e411fd2",
   "metadata": {
    "deletable": false,
    "nbgrader": {
     "cell_type": "markdown",
     "checksum": "a649af2f31bf230f9bde39e8d9840656",
     "grade": false,
     "grade_id": "hw2-description",
     "locked": true,
     "schema_version": 3,
     "solution": false,
     "task": false
    },
    "papermill": {
     "duration": 0.021222,
     "end_time": "2023-11-16T12:16:15.013776",
     "exception": false,
     "start_time": "2023-11-16T12:16:14.992554",
     "status": "completed"
    },
    "tags": []
   },
   "source": [
    "# Exercise Sheet 02: Principal Component Analysis, Factor Analysis, K-Means, and Gaussian Mixture Models\n",
    "\n",
    "**Introduction to Data Mining WS23/24**  \n",
    "**Bielefeld University**  \n",
    "**Alina Deriyeva, Benjamin Paaßen**  \n",
    "**Exercise Sheet Publication Date: 2023-11-06**  \n",
    "**Exercise Sheet Submission Deadline: Friday, 2023-11-17, noon (i.e. 12:00), via Moodle.**\n",
    "\n",
    "**NOTE** The use of language models/AI tools is permitted IF you notify us of the use (just indicate it in the respective task) and are still able to understand and present your results. We also appreciate it if you link to a chatlog of the interaction with the language model/AI tool so that we can understand better how students tend to use these tools."
   ]
  },
  {
   "cell_type": "markdown",
   "id": "7612d6e5",
   "metadata": {
    "deletable": false,
    "nbgrader": {
     "cell_type": "markdown",
     "checksum": "8390a59e6494dbe61c6901120c60de0b",
     "grade": false,
     "grade_id": "hw2-users",
     "locked": true,
     "schema_version": 3,
     "solution": false,
     "task": false
    },
    "papermill": {
     "duration": 0.019594,
     "end_time": "2023-11-16T12:16:15.053901",
     "exception": false,
     "start_time": "2023-11-16T12:16:15.034307",
     "status": "completed"
    },
    "tags": []
   },
   "source": [
    "Edward Lang, Niklas Nebeling"
   ]
  },
  {
   "cell_type": "markdown",
   "id": "29d33b58",
   "metadata": {
    "deletable": false,
    "nbgrader": {
     "cell_type": "markdown",
     "checksum": "9001d2e301d8f5fb40d8ca0ff9bb65b7",
     "grade": false,
     "grade_id": "hw2-preamble",
     "locked": true,
     "schema_version": 3,
     "solution": false,
     "task": false
    },
    "papermill": {
     "duration": 0.019647,
     "end_time": "2023-11-16T12:16:15.093679",
     "exception": false,
     "start_time": "2023-11-16T12:16:15.074032",
     "status": "completed"
    },
    "tags": []
   },
   "source": [
    "## Preamble: Data set\n",
    "\n",
    "The file `sheet02_data.csv` contains fictional data as you might find in an online course. Each row represents a student, each column a feature of the student's activity in the course, namely their number of posts in the course discussion forum, the number of questions they asked in chat during the online lectures, the number of messages they sent to their peers, and the number of points they achieved in each of the five exercises of the course.\n",
    "\n",
    "Note that there is quite a bit of missing data for later exercises because many students dropped out of the course early.\n",
    "\n",
    "The following line loads this raw data and prints it."
   ]
  },
  {
   "cell_type": "code",
   "execution_count": 78,
   "id": "5c28fdb8",
   "metadata": {
    "deletable": false,
    "execution": {
     "iopub.execute_input": "2023-11-16T12:16:15.137668Z",
     "iopub.status.busy": "2023-11-16T12:16:15.137105Z",
     "iopub.status.idle": "2023-11-16T12:16:15.167853Z",
     "shell.execute_reply": "2023-11-16T12:16:15.166533Z"
    },
    "nbgrader": {
     "cell_type": "code",
     "checksum": "1f1e9b97ca4efae8262263cfe2503b59",
     "grade": false,
     "grade_id": "hw2-data",
     "locked": true,
     "schema_version": 3,
     "solution": false,
     "task": false
    },
    "papermill": {
     "duration": 0.055668,
     "end_time": "2023-11-16T12:16:15.170961",
     "exception": false,
     "start_time": "2023-11-16T12:16:15.115293",
     "status": "completed"
    },
    "tags": []
   },
   "outputs": [
    {
     "name": "stdout",
     "output_type": "stream",
     "text": [
      "[[ 3.  1.  1. ... 56. 61. 60.]\n",
      " [ 0.  0.  0. ... nan nan nan]\n",
      " [ 7.  3.  2. ... 66. 57. nan]\n",
      " ...\n",
      " [ 0.  0.  0. ... 30. nan nan]\n",
      " [ 1.  0.  0. ... nan nan nan]\n",
      " [ 3.  0.  1. ... 40. 35. 40.]]\n"
     ]
    }
   ],
   "source": [
    "import numpy as np\n",
    "import matplotlib.pyplot as plt\n",
    "\n",
    "features = ['num_forum_postings',\n",
    "    'num_questions',\n",
    "    'num_messages',\n",
    "    'num_completed_tasks',\n",
    "    'points_exercise_1',\n",
    "    'points_exercise_2',\n",
    "    'points_exercise_3',\n",
    "    'points_exercise_4',\n",
    "    'points_exercise_5']\n",
    "\n",
    "X = np.loadtxt('sheet02_data.csv', skiprows = 1, delimiter = '\\t')\n",
    "print(X)"
   ]
  },
  {
   "cell_type": "markdown",
   "id": "bc71317c",
   "metadata": {
    "deletable": false,
    "nbgrader": {
     "cell_type": "markdown",
     "checksum": "4e4ce315083ce5875e3679659d2469d4",
     "grade": false,
     "grade_id": "hw2-task1-description",
     "locked": true,
     "schema_version": 3,
     "solution": false,
     "task": false
    },
    "papermill": {
     "duration": 0.02096,
     "end_time": "2023-11-16T12:16:15.212295",
     "exception": false,
     "start_time": "2023-11-16T12:16:15.191335",
     "status": "completed"
    },
    "tags": []
   },
   "source": [
    "### Task 02.01\n",
    "\n",
    "Our first challenge is to impute the missing data. Fill in missing values with the mean points the respective student got on the other exercises. For students with no completed exercises, fill in zeros."
   ]
  },
  {
   "cell_type": "code",
   "execution_count": 79,
   "id": "4dd6d043",
   "metadata": {
    "deletable": false,
    "execution": {
     "iopub.execute_input": "2023-11-16T12:16:15.255389Z",
     "iopub.status.busy": "2023-11-16T12:16:15.254524Z",
     "iopub.status.idle": "2023-11-16T12:16:15.263028Z",
     "shell.execute_reply": "2023-11-16T12:16:15.262235Z"
    },
    "nbgrader": {
     "cell_type": "code",
     "checksum": "1a4a549a40d14b4eac5c19ce91cc9cc4",
     "grade": false,
     "grade_id": "hw2-task1-solution",
     "locked": false,
     "schema_version": 3,
     "solution": true,
     "task": false
    },
    "papermill": {
     "duration": 0.032978,
     "end_time": "2023-11-16T12:16:15.265528",
     "exception": false,
     "start_time": "2023-11-16T12:16:15.232550",
     "status": "completed"
    },
    "tags": []
   },
   "outputs": [
    {
     "name": "stdout",
     "output_type": "stream",
     "text": [
      "[[ 3.  1.  1. ... 56. 61. 60.]\n",
      " [ 0.  0.  0. ...  0.  0.  0.]\n",
      " [ 7.  3.  2. ... 66. 57.  0.]\n",
      " ...\n",
      " [ 0.  0.  0. ... 30.  0.  0.]\n",
      " [ 1.  0.  0. ...  0.  0.  0.]\n",
      " [ 3.  0.  1. ... 40. 35. 40.]]\n"
     ]
    }
   ],
   "source": [
    "mean_exc_points = np.mean(X[:, 4:9], axis=1)\n",
    "missing = np.isnan(X[:, 4:9])\n",
    "\n",
    "# Fill missing values with the mean\n",
    "X[:, 4:9] = np.where(missing, mean_exc_points[:, None], X[:, 4:9])\n",
    "# Fill zeros for students with no completed excercises\n",
    "X[:, 4:9][np.isnan(X[:, 4:9])] = 0\n",
    "print(X)"
   ]
  },
  {
   "cell_type": "markdown",
   "id": "7b8b5ab7",
   "metadata": {
    "deletable": false,
    "nbgrader": {
     "cell_type": "markdown",
     "checksum": "f2475e0fd5334663acc8087ee9e55aab",
     "grade": false,
     "grade_id": "hw2-task2-description",
     "locked": true,
     "schema_version": 3,
     "solution": false,
     "task": false
    },
    "papermill": {
     "duration": 0.020088,
     "end_time": "2023-11-16T12:16:15.348332",
     "exception": false,
     "start_time": "2023-11-16T12:16:15.328244",
     "status": "completed"
    },
    "tags": []
   },
   "source": [
    "### Task 02.02\n",
    "\n",
    "Next, normalize the data by dividing by the maximum value in each column."
   ]
  },
  {
   "cell_type": "code",
   "execution_count": 80,
   "id": "a9d09988",
   "metadata": {
    "deletable": false,
    "execution": {
     "iopub.execute_input": "2023-11-16T12:16:15.394470Z",
     "iopub.status.busy": "2023-11-16T12:16:15.393668Z",
     "iopub.status.idle": "2023-11-16T12:16:15.400599Z",
     "shell.execute_reply": "2023-11-16T12:16:15.399226Z"
    },
    "nbgrader": {
     "cell_type": "code",
     "checksum": "205b7562a1805bf99e63b0428909cf2c",
     "grade": false,
     "grade_id": "hw2-task2-solution",
     "locked": false,
     "schema_version": 3,
     "solution": true,
     "task": false
    },
    "papermill": {
     "duration": 0.032847,
     "end_time": "2023-11-16T12:16:15.403370",
     "exception": false,
     "start_time": "2023-11-16T12:16:15.370523",
     "status": "completed"
    },
    "tags": []
   },
   "outputs": [
    {
     "name": "stdout",
     "output_type": "stream",
     "text": [
      "[[0.25       0.2        0.11111111 ... 0.70886076 0.7721519  0.76923077]\n",
      " [0.         0.         0.         ... 0.         0.         0.        ]\n",
      " [0.58333333 0.6        0.22222222 ... 0.83544304 0.72151899 0.        ]\n",
      " ...\n",
      " [0.         0.         0.         ... 0.37974684 0.         0.        ]\n",
      " [0.08333333 0.         0.         ... 0.         0.         0.        ]\n",
      " [0.25       0.         0.11111111 ... 0.50632911 0.44303797 0.51282051]]\n"
     ]
    }
   ],
   "source": [
    "max_val = np.max(X, axis=0)\n",
    "X = X / max_val\n",
    "print(X)"
   ]
  },
  {
   "cell_type": "markdown",
   "id": "c483c20b",
   "metadata": {
    "deletable": false,
    "nbgrader": {
     "cell_type": "markdown",
     "checksum": "26ea8562ab7f68338fab402e0332d318",
     "grade": false,
     "grade_id": "hw2-pca",
     "locked": true,
     "schema_version": 3,
     "solution": false,
     "task": false
    },
    "papermill": {
     "duration": 0.020255,
     "end_time": "2023-11-16T12:16:15.485779",
     "exception": false,
     "start_time": "2023-11-16T12:16:15.465524",
     "status": "completed"
    },
    "tags": []
   },
   "source": [
    "## Principal Component Analysis"
   ]
  },
  {
   "cell_type": "markdown",
   "id": "d6d8c348",
   "metadata": {
    "deletable": false,
    "nbgrader": {
     "cell_type": "markdown",
     "checksum": "1d699bf6693544d3613be81c2d7f6737",
     "grade": false,
     "grade_id": "hw2-task3-description",
     "locked": true,
     "schema_version": 3,
     "solution": false,
     "task": false
    },
    "papermill": {
     "duration": 0.020601,
     "end_time": "2023-11-16T12:16:15.613277",
     "exception": false,
     "start_time": "2023-11-16T12:16:15.592676",
     "status": "completed"
    },
    "tags": []
   },
   "source": [
    "### Task 02.03\n",
    "\n",
    "Compute the covariance matrix of the data via `np.cov` and compute the eigenvalues of the covariance matrix via `np.linalg.eigvals`. Provide a plot of the eigenvalues on the y-axis, sorted according to size (the largest eigenvalue at x=1, the second-largest on x=2, and so on).\n",
    "\n",
    "Compute and report the percentage of variance covered by the first two eigenvalues.\n",
    "\n",
    "**HINT:** `np.cov` treats the rows as variables and columns as observations. For our data set, rows are observations and columns are variables."
   ]
  },
  {
   "cell_type": "code",
   "execution_count": 81,
   "id": "93239e01",
   "metadata": {
    "deletable": false,
    "execution": {
     "iopub.execute_input": "2023-11-16T12:16:15.657843Z",
     "iopub.status.busy": "2023-11-16T12:16:15.656817Z",
     "iopub.status.idle": "2023-11-16T12:16:15.971993Z",
     "shell.execute_reply": "2023-11-16T12:16:15.971182Z"
    },
    "nbgrader": {
     "cell_type": "code",
     "checksum": "cb01f785eea35f920e5e37dcd8b321fa",
     "grade": false,
     "grade_id": "hw2-task3-solution",
     "locked": false,
     "schema_version": 3,
     "solution": true,
     "task": false
    },
    "papermill": {
     "duration": 0.342395,
     "end_time": "2023-11-16T12:16:15.976284",
     "exception": false,
     "start_time": "2023-11-16T12:16:15.633889",
     "status": "completed"
    },
    "tags": []
   },
   "outputs": [
    {
     "data": {
      "image/png": "[encoded data removed]",
      "text/plain": [
       "<Figure size 640x480 with 1 Axes>"
      ]
     },
     "metadata": {},
     "output_type": "display_data"
    },
    {
     "name": "stdout",
     "output_type": "stream",
     "text": [
      "Variance covered by the first two eigenvalues:  89.42095141236194 %\n"
     ]
    }
   ],
   "source": [
    "# Sorted eigenvalue plot\n",
    "cov_matrix = np.cov(X, rowvar=False)\n",
    "eigen_val = np.sort(np.linalg.eigvals(cov_matrix))[::-1]\n",
    "plt.plot(np.arange(1, len(eigen_val)+1), eigen_val)\n",
    "plt.show()\n",
    "\n",
    "# Percentage of variance covered by the first two eigenvalues\n",
    "variance = np.sum(eigen_val[:2]) / np.sum(eigen_val) * 100\n",
    "print(\"Variance covered by the first two eigenvalues: \", variance, \"%\")"
   ]
  },
  {
   "cell_type": "markdown",
   "id": "e9d2277b",
   "metadata": {
    "deletable": false,
    "nbgrader": {
     "cell_type": "markdown",
     "checksum": "4d4f0969d78595b3e45ba3a718581054",
     "grade": false,
     "grade_id": "hw2-task4-description",
     "locked": true,
     "schema_version": 3,
     "solution": false,
     "task": false
    },
    "papermill": {
     "duration": 0.020713,
     "end_time": "2023-11-16T12:16:16.070583",
     "exception": false,
     "start_time": "2023-11-16T12:16:16.049870",
     "status": "completed"
    },
    "tags": []
   },
   "source": [
    "### Task 02.04\n",
    "\n",
    "Use the `fit` method of a `sklearn.decomposition.PCA` model to perform a principal component analysis of this data with `n_components = 2`.\n",
    "\n",
    "Transform the data to the latent space via the `transform` function of the PCA model.\n",
    "\n",
    "Plot the data using a 2D scatter plot."
   ]
  },
  {
   "cell_type": "code",
   "execution_count": 82,
   "id": "ad6b0ab5",
   "metadata": {
    "deletable": false,
    "execution": {
     "iopub.execute_input": "2023-11-16T12:16:16.119399Z",
     "iopub.status.busy": "2023-11-16T12:16:16.118005Z",
     "iopub.status.idle": "2023-11-16T12:16:17.976882Z",
     "shell.execute_reply": "2023-11-16T12:16:17.975379Z"
    },
    "nbgrader": {
     "cell_type": "code",
     "checksum": "f8ba2ade9488c9151cae2eccddba4b17",
     "grade": false,
     "grade_id": "hw2-task4-solution",
     "locked": false,
     "schema_version": 3,
     "solution": true,
     "task": false
    },
    "papermill": {
     "duration": 1.888649,
     "end_time": "2023-11-16T12:16:17.980623",
     "exception": false,
     "start_time": "2023-11-16T12:16:16.091974",
     "status": "completed"
    },
    "tags": []
   },
   "outputs": [
    {
     "data": {
      "image/png": "[encoded data removed]",
      "text/plain": [
       "<Figure size 640x480 with 1 Axes>"
      ]
     },
     "metadata": {},
     "output_type": "display_data"
    }
   ],
   "source": [
    "from sklearn.decomposition import PCA\n",
    "\n",
    "# PCA fit and transform\n",
    "pca_model = PCA(n_components=2)\n",
    "pca_model.fit(X)\n",
    "pca_model_tr = pca_model.transform(X)\n",
    "# Scatter plot\n",
    "plt.scatter(pca_model_tr[:, 0], pca_model_tr[:, 1])\n",
    "plt.show()"
   ]
  },
  {
   "cell_type": "markdown",
   "id": "268c01a1",
   "metadata": {
    "deletable": false,
    "nbgrader": {
     "cell_type": "markdown",
     "checksum": "cc5a82eb4904c1dfb5404821d96135e5",
     "grade": false,
     "grade_id": "hw2-task5-description",
     "locked": true,
     "schema_version": 3,
     "solution": false,
     "task": false
    },
    "papermill": {
     "duration": 0.024197,
     "end_time": "2023-11-16T12:16:18.081665",
     "exception": false,
     "start_time": "2023-11-16T12:16:18.057468",
     "status": "completed"
    },
    "tags": []
   },
   "source": [
    "### Task 02.05 (Bonus Task)\n",
    "\n",
    "Compute the eigenvalue decomposition of the covariance matrix and perform PCA yourself. Only retain the two most prominent components and plot the transformed data with a 2D scatter plot. Check whether your plot is consistent with the plot above."
   ]
  },
  {
   "cell_type": "code",
   "execution_count": null,
   "id": "e346ea65",
   "metadata": {
    "deletable": false,
    "nbgrader": {
     "cell_type": "code",
     "checksum": "d3ccb887aa27bd1e78fc6497bf3db7a4",
     "grade": false,
     "grade_id": "hw2-task5-solution",
     "locked": false,
     "schema_version": 3,
     "solution": true,
     "task": false
    },
    "papermill": {
     "duration": 0.029195,
     "end_time": "2023-11-16T12:16:18.141427",
     "exception": false,
     "start_time": "2023-11-16T12:16:18.112232",
     "status": "completed"
    },
    "tags": []
   },
   "outputs": [],
   "source": []
  },
  {
   "cell_type": "markdown",
   "id": "866fa7a5",
   "metadata": {
    "deletable": false,
    "nbgrader": {
     "cell_type": "markdown",
     "checksum": "d90b6c4ed313d518d5488f58910d015b",
     "grade": false,
     "grade_id": "hw2-factor",
     "locked": true,
     "schema_version": 3,
     "solution": false,
     "task": false
    },
    "papermill": {
     "duration": 0.021605,
     "end_time": "2023-11-16T12:16:18.239344",
     "exception": false,
     "start_time": "2023-11-16T12:16:18.217739",
     "status": "completed"
    },
    "tags": []
   },
   "source": [
    "## Factor Analysis"
   ]
  },
  {
   "cell_type": "markdown",
   "id": "c37bf511",
   "metadata": {
    "deletable": false,
    "nbgrader": {
     "cell_type": "markdown",
     "checksum": "2f8afc6b2e9becb1dbbe6003f302bc8e",
     "grade": false,
     "grade_id": "hw2-task6-description",
     "locked": true,
     "schema_version": 3,
     "solution": false,
     "task": false
    },
    "papermill": {
     "duration": 0.032296,
     "end_time": "2023-11-16T12:16:18.302095",
     "exception": false,
     "start_time": "2023-11-16T12:16:18.269799",
     "status": "completed"
    },
    "tags": []
   },
   "source": [
    "### Task 02.06\n",
    "\n",
    "Use the `fit` method of a `sklearn.decomposition.FactorAnalysis` model to perform a factor analysis of this data with `n_components = 2`. Use the `rotation = 'varimax'` parameter.\n",
    "\n",
    "Transform the data to the latent space via the `transform` function of the FA model.\n",
    "\n",
    "Plot the data using a 2D scatter plot.\n",
    "\n",
    "Compare this plot to the plot above. What difference do you notice?"
   ]
  },
  {
   "cell_type": "code",
   "execution_count": 83,
   "id": "4d6cce66",
   "metadata": {
    "deletable": false,
    "execution": {
     "iopub.execute_input": "2023-11-16T12:16:18.364850Z",
     "iopub.status.busy": "2023-11-16T12:16:18.363597Z",
     "iopub.status.idle": "2023-11-16T12:16:18.661262Z",
     "shell.execute_reply": "2023-11-16T12:16:18.660103Z"
    },
    "nbgrader": {
     "cell_type": "code",
     "checksum": "b505ee1c03306b9bf0e13ebfb325b909",
     "grade": true,
     "grade_id": "hw2-task6-solution",
     "locked": false,
     "points": 1,
     "schema_version": 3,
     "solution": true,
     "task": false
    },
    "papermill": {
     "duration": 0.333015,
     "end_time": "2023-11-16T12:16:18.664407",
     "exception": false,
     "start_time": "2023-11-16T12:16:18.331392",
     "status": "completed"
    },
    "tags": []
   },
   "outputs": [
    {
     "data": {
      "image/png": "[encoded data removed]",
      "text/plain": [
       "<Figure size 640x480 with 1 Axes>"
      ]
     },
     "metadata": {},
     "output_type": "display_data"
    }
   ],
   "source": [
    "from sklearn.decomposition import FactorAnalysis\n",
    "# FA Model\n",
    "fa_model = FactorAnalysis(n_components=2, rotation=\"varimax\")\n",
    "fa_model.fit(X)\n",
    "fa_model_tr = fa_model.transform(X)\n",
    "plt.scatter(fa_model_tr[:, 0], fa_model_tr[:, 1])\n",
    "plt.show()"
   ]
  },
  {
   "cell_type": "markdown",
   "id": "c408a42f",
   "metadata": {
    "deletable": false,
    "nbgrader": {
     "cell_type": "markdown",
     "checksum": "62841e2447a2eeeb8fd1e8f382a1ec3e",
     "grade": true,
     "grade_id": "hw2-task6-interpretation",
     "locked": false,
     "points": 1,
     "schema_version": 3,
     "solution": true,
     "task": false
    },
    "papermill": {
     "duration": 0.021895,
     "end_time": "2023-11-16T12:16:18.764373",
     "exception": false,
     "start_time": "2023-11-16T12:16:18.742478",
     "status": "completed"
    },
    "tags": []
   },
   "source": [
    "YOUR ANSWER HERE"
   ]
  },
  {
   "cell_type": "markdown",
   "id": "782b16dd",
   "metadata": {
    "deletable": false,
    "nbgrader": {
     "cell_type": "markdown",
     "checksum": "a38c327173490259a12457fca109906e",
     "grade": false,
     "grade_id": "hw2-task7-description",
     "locked": true,
     "schema_version": 3,
     "solution": false,
     "task": false
    },
    "papermill": {
     "duration": 0.02178,
     "end_time": "2023-11-16T12:16:18.809134",
     "exception": false,
     "start_time": "2023-11-16T12:16:18.787354",
     "status": "completed"
    },
    "tags": []
   },
   "source": [
    "### Task 02.07\n",
    "\n",
    "Print the `components_` property of the factor analysis model. For both factors, report which features/columns of the data have high weights.\n",
    "\n",
    "Try to interpret the \n",
    "\n",
    "Print the factors found by the factor analysis using `print(model.components_)`. Try to interpret both factors. What does the first factor represent? What does the second factor represent?"
   ]
  },
  {
   "cell_type": "code",
   "execution_count": 84,
   "id": "2669af6f",
   "metadata": {
    "deletable": false,
    "execution": {
     "iopub.execute_input": "2023-11-16T12:16:18.856761Z",
     "iopub.status.busy": "2023-11-16T12:16:18.855950Z",
     "iopub.status.idle": "2023-11-16T12:16:18.866306Z",
     "shell.execute_reply": "2023-11-16T12:16:18.865204Z"
    },
    "nbgrader": {
     "cell_type": "code",
     "checksum": "f0b8ae87d7976b50f199b41e5d3d7f9f",
     "grade": true,
     "grade_id": "hw2-task7-solution",
     "locked": false,
     "points": 1,
     "schema_version": 3,
     "solution": true,
     "task": false
    },
    "papermill": {
     "duration": 0.037179,
     "end_time": "2023-11-16T12:16:18.868984",
     "exception": false,
     "start_time": "2023-11-16T12:16:18.831805",
     "status": "completed"
    },
    "tags": []
   },
   "outputs": [
    {
     "name": "stdout",
     "output_type": "stream",
     "text": [
      "FA Model components:\n",
      " [[0.12394814 0.09441533 0.09611795 0.35531362 0.26373618 0.29135977\n",
      "  0.29088736 0.29739746 0.29325212]\n",
      " [0.21135288 0.19175507 0.18018098 0.091416   0.05275324 0.0615744\n",
      "  0.06737594 0.05038413 0.03650829]]\n",
      "___________________________________________________________\n",
      "Feature Factor 1 :\n",
      "num_completed_tasks: 0.35531362094902663\n",
      "points_exercise_4: 0.2973974648487442\n",
      "points_exercise_5: 0.29325212316575666\n",
      "___________________________________________________________\n",
      "Feature Factor 2 :\n",
      "num_forum_postings: 0.21135288056692472\n",
      "num_questions: 0.19175506854950247\n",
      "num_messages: 0.18018097969466995\n"
     ]
    }
   ],
   "source": [
    "print(\"FA Model components:\\n\", fa_model.components_)\n",
    "\n",
    "# Weights\n",
    "f1_w = fa_model.components_[0]\n",
    "f2_w = fa_model.components_[1]\n",
    "\n",
    "# High weights\n",
    "f1_w_h = np.argsort(np.abs(f1_w))[::-1][:3]\n",
    "f2_w_h = np.argsort(np.abs(f2_w))[::-1][:3]\n",
    "print(\"___________________________________________________________\")\n",
    "# Print feature relevance\n",
    "print(\"Feature Factor 1 :\")\n",
    "for idx in f1_w_h:\n",
    "    print(f\"{features[idx]}: {f1_w[idx]}\")  \n",
    "print(\"___________________________________________________________\")    \n",
    "print(\"Feature Factor 2 :\")  \n",
    "for idx in f2_w_h:\n",
    "    print(f\"{features[idx]}: {f2_w[idx]}\")"
   ]
  },
  {
   "cell_type": "markdown",
   "id": "7b0d4cd4",
   "metadata": {
    "deletable": false,
    "nbgrader": {
     "cell_type": "markdown",
     "checksum": "e5fa0f753a8d270b3c2dfc0e51a30a32",
     "grade": true,
     "grade_id": "hw2-task7-interpretation",
     "locked": false,
     "points": 1,
     "schema_version": 3,
     "solution": true,
     "task": false
    },
    "papermill": {
     "duration": 0.021888,
     "end_time": "2023-11-16T12:16:18.912901",
     "exception": false,
     "start_time": "2023-11-16T12:16:18.891013",
     "status": "completed"
    },
    "tags": []
   },
   "source": [
    "#### Answer\n",
    "\n",
    "The first factor represents relevance in the amount of completed tasks, which includes the scores of the last excersises.\n",
    "The second factor represents relevance in the participation on the forum."
   ]
  },
  {
   "cell_type": "markdown",
   "id": "737aec88",
   "metadata": {
    "deletable": false,
    "nbgrader": {
     "cell_type": "markdown",
     "checksum": "f6bf2d51179d98f9c0821ad5af873b82",
     "grade": false,
     "grade_id": "hw2-clustering",
     "locked": true,
     "schema_version": 3,
     "solution": false,
     "task": false
    },
    "papermill": {
     "duration": 0.022727,
     "end_time": "2023-11-16T12:16:18.957866",
     "exception": false,
     "start_time": "2023-11-16T12:16:18.935139",
     "status": "completed"
    },
    "tags": []
   },
   "source": [
    "## Clustering"
   ]
  },
  {
   "cell_type": "markdown",
   "id": "0337f443",
   "metadata": {
    "deletable": false,
    "nbgrader": {
     "cell_type": "markdown",
     "checksum": "a4444b5150598490f3cb1cb2ed061e92",
     "grade": false,
     "grade_id": "hw2-task8-description",
     "locked": true,
     "schema_version": 3,
     "solution": false,
     "task": false
    },
    "papermill": {
     "duration": 0.022409,
     "end_time": "2023-11-16T12:16:19.002738",
     "exception": false,
     "start_time": "2023-11-16T12:16:18.980329",
     "status": "completed"
    },
    "tags": []
   },
   "source": [
    "### Task 02.08\n",
    "\n",
    "Using `sklearn.cluster.KMeans`, perform cluster analyses of the data for `n_clusters` between 2 and 10. For each value of `n_clusters`, compute the `sklearn.metrics.silhouette_score`. Provide a plot of the silhouette score on the y axis and `n_clusters` on the x axis. Report which value for `n_clusters` is best according to this analysis.\n",
    "\n",
    "**HINT:** The `silhouette_score` function requires the cluster labels as second argument. You can retrieve the cluster labels from a fitted `KMeans` model via the `predict` function."
   ]
  },
  {
   "cell_type": "code",
   "execution_count": 85,
   "id": "28b429ea",
   "metadata": {
    "deletable": false,
    "execution": {
     "iopub.execute_input": "2023-11-16T12:16:19.051945Z",
     "iopub.status.busy": "2023-11-16T12:16:19.050929Z",
     "iopub.status.idle": "2023-11-16T12:16:20.712745Z",
     "shell.execute_reply": "2023-11-16T12:16:20.711577Z"
    },
    "nbgrader": {
     "cell_type": "code",
     "checksum": "e2b32dae67aaf130e002fe22ddcf0891",
     "grade": false,
     "grade_id": "hw2-task8-solution",
     "locked": false,
     "schema_version": 3,
     "solution": true,
     "task": false
    },
    "papermill": {
     "duration": 1.689646,
     "end_time": "2023-11-16T12:16:20.716561",
     "exception": false,
     "start_time": "2023-11-16T12:16:19.026915",
     "status": "completed"
    },
    "tags": []
   },
   "outputs": [
    {
     "data": {
      "image/png": "[encoded data removed]",
      "text/plain": [
       "<Figure size 640x480 with 1 Axes>"
      ]
     },
     "metadata": {},
     "output_type": "display_data"
    },
    {
     "name": "stdout",
     "output_type": "stream",
     "text": [
      "Best value for n_clusters:  2\n"
     ]
    }
   ],
   "source": [
    "from sklearn.cluster import KMeans\n",
    "from sklearn.metrics import silhouette_score\n",
    "import warnings\n",
    "warnings.filterwarnings(\"ignore\")\n",
    "\n",
    "# calculate scores\n",
    "scores = []\n",
    "for clusters in range(2, 11):\n",
    "    # set state so the results arent different, when rerunning the file\n",
    "    kmeans_cluster = KMeans(n_clusters=clusters, random_state=33)\n",
    "    kmeans_cluster.fit(X)\n",
    "    silh_score = silhouette_score(X, kmeans_cluster.predict(X))\n",
    "    scores.append(silh_score)\n",
    "    \n",
    "# plot\n",
    "plt.plot(range(2, 11), scores)\n",
    "plt.show()\n",
    "\n",
    "# Retrieve best value for n_clusters\n",
    "clusters_r = range(2, 11)\n",
    "print(\"Best value for n_clusters: \", clusters_r[np.argmax(scores)])"
   ]
  },
  {
   "cell_type": "markdown",
   "id": "0a5da2e4",
   "metadata": {
    "deletable": false,
    "nbgrader": {
     "cell_type": "markdown",
     "checksum": "76a54a32bac0f9eec2b035666c8cc28d",
     "grade": false,
     "grade_id": "hw2-task9-description",
     "locked": true,
     "schema_version": 3,
     "solution": false,
     "task": false
    },
    "papermill": {
     "duration": 0.022814,
     "end_time": "2023-11-16T12:16:20.868443",
     "exception": false,
     "start_time": "2023-11-16T12:16:20.845629",
     "status": "completed"
    },
    "tags": []
   },
   "source": [
    "### Task 02.09\n",
    "\n",
    "Using `sklearn.cluster.KMeans`, perform a cluster analysis of the data with `n_clusters = 2`. Provide a scatter plot of the latent representation of the data according to factor analysis, where the color of each point represents the cluster membership."
   ]
  },
  {
   "cell_type": "code",
   "execution_count": 86,
   "id": "30ebddc3",
   "metadata": {
    "deletable": false,
    "execution": {
     "iopub.execute_input": "2023-11-16T12:16:20.917004Z",
     "iopub.status.busy": "2023-11-16T12:16:20.916589Z",
     "iopub.status.idle": "2023-11-16T12:16:21.160080Z",
     "shell.execute_reply": "2023-11-16T12:16:21.158734Z"
    },
    "nbgrader": {
     "cell_type": "code",
     "checksum": "99d32119421e400cdae72db9421660db",
     "grade": false,
     "grade_id": "hw2-task9-solution",
     "locked": false,
     "schema_version": 3,
     "solution": true,
     "task": false
    },
    "papermill": {
     "duration": 0.270762,
     "end_time": "2023-11-16T12:16:21.162818",
     "exception": false,
     "start_time": "2023-11-16T12:16:20.892056",
     "status": "completed"
    },
    "tags": []
   },
   "outputs": [
    {
     "data": {
      "image/png": "[encoded data removed]",
      "text/plain": [
       "<Figure size 640x480 with 1 Axes>"
      ]
     },
     "metadata": {},
     "output_type": "display_data"
    }
   ],
   "source": [
    "# Factor analysis for latent representation\n",
    "fa_model = FactorAnalysis(n_components=2, rotation=\"varimax\")\n",
    "fa_model.fit(X)\n",
    "fa_model = fa_model.transform(X)\n",
    "\n",
    "# KMeans clustering\n",
    "kmeans_cluster = KMeans(n_clusters=2, random_state=33)\n",
    "kmeans_cluster.fit(X)\n",
    "cluster_l = kmeans_cluster.predict(X)\n",
    "\n",
    "# Plot\n",
    "plt.scatter(fa_model[:, 0], fa_model[:, 1], c=cluster_l)\n",
    "plt.show()"
   ]
  },
  {
   "cell_type": "markdown",
   "id": "97eba019",
   "metadata": {
    "deletable": false,
    "nbgrader": {
     "cell_type": "markdown",
     "checksum": "a109f816e823cb3beae643e24b42d989",
     "grade": false,
     "grade_id": "hw2-task10-description",
     "locked": true,
     "schema_version": 3,
     "solution": false,
     "task": false
    },
    "papermill": {
     "duration": 0.024616,
     "end_time": "2023-11-16T12:16:21.271582",
     "exception": false,
     "start_time": "2023-11-16T12:16:21.246966",
     "status": "completed"
    },
    "tags": []
   },
   "source": [
    "### Task 02.10 (bonus task)\n",
    "\n",
    "Repeat the cluster analysis, but perform it on the latent representation according to factor analysis. Plot the new clustering. Check if it is consistent with the plot above.\n"
   ]
  },
  {
   "cell_type": "code",
   "execution_count": null,
   "id": "e176f326",
   "metadata": {
    "deletable": false,
    "nbgrader": {
     "cell_type": "code",
     "checksum": "9fe488829e8ff850357ef7c794f86a30",
     "grade": false,
     "grade_id": "hw2-task10-solution",
     "locked": false,
     "schema_version": 3,
     "solution": true,
     "task": false
    },
    "papermill": {
     "duration": 0.024499,
     "end_time": "2023-11-16T12:16:21.320984",
     "exception": false,
     "start_time": "2023-11-16T12:16:21.296485",
     "status": "completed"
    },
    "tags": []
   },
   "outputs": [],
   "source": []
  },
  {
   "cell_type": "markdown",
   "id": "54ad7cc5",
   "metadata": {
    "deletable": false,
    "nbgrader": {
     "cell_type": "markdown",
     "checksum": "1b61ff2c870144e59d3fd06a0201c9b0",
     "grade": false,
     "grade_id": "hw2-task11-description",
     "locked": true,
     "schema_version": 3,
     "solution": false,
     "task": false
    },
    "papermill": {
     "duration": 0.023582,
     "end_time": "2023-11-16T12:16:21.427129",
     "exception": false,
     "start_time": "2023-11-16T12:16:21.403547",
     "status": "completed"
    },
    "tags": []
   },
   "source": [
    "### Task 02.11 (bonus task)\n",
    "\n",
    "Implement $K$-Means yourself. Check if your result is consistent with the result provided by the `sklearn` implementation.\n"
   ]
  },
  {
   "cell_type": "code",
   "execution_count": null,
   "id": "48ee394c",
   "metadata": {
    "deletable": false,
    "nbgrader": {
     "cell_type": "code",
     "checksum": "ca6de8c9752d73040f2eee3f2e1bad10",
     "grade": true,
     "grade_id": "hw2-task11-solution",
     "locked": false,
     "points": 1,
     "schema_version": 3,
     "solution": true,
     "task": false
    },
    "papermill": {
     "duration": 0.023449,
     "end_time": "2023-11-16T12:16:21.474355",
     "exception": false,
     "start_time": "2023-11-16T12:16:21.450906",
     "status": "completed"
    },
    "tags": []
   },
   "outputs": [],
   "source": []
  },
  {
   "cell_type": "markdown",
   "id": "989fb163",
   "metadata": {
    "deletable": false,
    "nbgrader": {
     "cell_type": "markdown",
     "checksum": "d12be55eb39da19dce0beb77c75e1e3b",
     "grade": false,
     "grade_id": "hw2-gaussian",
     "locked": true,
     "schema_version": 3,
     "solution": false,
     "task": false
    },
    "papermill": {
     "duration": 0.023418,
     "end_time": "2023-11-16T12:16:21.521442",
     "exception": false,
     "start_time": "2023-11-16T12:16:21.498024",
     "status": "completed"
    },
    "tags": []
   },
   "source": [
    "## Gaussian Mixture Models"
   ]
  },
  {
   "cell_type": "markdown",
   "id": "ca143b9c",
   "metadata": {
    "deletable": false,
    "nbgrader": {
     "cell_type": "markdown",
     "checksum": "75539a08871a3cf3d39b44022a577819",
     "grade": false,
     "grade_id": "hw2-task12-description",
     "locked": true,
     "schema_version": 3,
     "solution": false,
     "task": false
    },
    "papermill": {
     "duration": 0.023389,
     "end_time": "2023-11-16T12:16:21.568450",
     "exception": false,
     "start_time": "2023-11-16T12:16:21.545061",
     "status": "completed"
    },
    "tags": []
   },
   "source": [
    "### Task 02.12\n",
    "\n",
    "Using `sklearn.mixture.GaussianMixture`, perform cluster analyses of the data with `n_components` between 2 and 10. For each cluster analysis, compute the `bic` function value of the model (this is the Bayesian information criterion). Provide a plot of the bic value on the y axis with `n_components` on the x axis.\n",
    "\n",
    "Report which value for `n_components` is best according to this analysis."
   ]
  },
  {
   "cell_type": "code",
   "execution_count": 87,
   "id": "85e40231",
   "metadata": {
    "deletable": false,
    "execution": {
     "iopub.execute_input": "2023-11-16T12:16:21.617809Z",
     "iopub.status.busy": "2023-11-16T12:16:21.617325Z",
     "iopub.status.idle": "2023-11-16T12:16:22.824758Z",
     "shell.execute_reply": "2023-11-16T12:16:22.823403Z"
    },
    "nbgrader": {
     "cell_type": "code",
     "checksum": "6c68875431294660335191c415a929ad",
     "grade": false,
     "grade_id": "hw2-task12-solution",
     "locked": false,
     "schema_version": 3,
     "solution": true,
     "task": false
    },
    "papermill": {
     "duration": 1.237252,
     "end_time": "2023-11-16T12:16:22.829287",
     "exception": false,
     "start_time": "2023-11-16T12:16:21.592035",
     "status": "completed"
    },
    "tags": []
   },
   "outputs": [
    {
     "data": {
      "image/png": "[encoded data removed]",
      "text/plain": [
       "<Figure size 640x480 with 1 Axes>"
      ]
     },
     "metadata": {},
     "output_type": "display_data"
    },
    {
     "name": "stdout",
     "output_type": "stream",
     "text": [
      "The best value for n_components is 7\n"
     ]
    }
   ],
   "source": [
    "from sklearn.mixture import GaussianMixture\n",
    "\n",
    "bic_scores = []\n",
    "for comp in range(2, 10):\n",
    "    gauss_m = GaussianMixture(n_components=comp, random_state=33)\n",
    "    gauss_m.fit(X)\n",
    "    bic_scores.append(gauss_m.bic(X))\n",
    "    \n",
    "plt.plot(range(2, 10), bic_scores)    \n",
    "plt.show()\n",
    "\n",
    "print(f\"The best value for n_components is {range(2, 10)[np.argmin(bic_scores)]}\")"
   ]
  },
  {
   "cell_type": "markdown",
   "id": "9c667502",
   "metadata": {
    "deletable": false,
    "nbgrader": {
     "cell_type": "markdown",
     "checksum": "e7dd16a5ef5df3bb7c540d4e74d0ea5b",
     "grade": false,
     "grade_id": "hw2-task13-description",
     "locked": true,
     "schema_version": 3,
     "solution": false,
     "task": false
    },
    "papermill": {
     "duration": 0.025544,
     "end_time": "2023-11-16T12:16:22.939464",
     "exception": false,
     "start_time": "2023-11-16T12:16:22.913920",
     "status": "completed"
    },
    "tags": []
   },
   "source": [
    "### Task 02.13\n",
    "\n",
    "Using `sklearn.mixture.GaussianMixture`, perform a cluster analysis of the data with `n_components = 2`. Provide a scatter plot of the latent representation of the data according to factor analysis, where the color of each point represents the cluster membership."
   ]
  },
  {
   "cell_type": "code",
   "execution_count": 88,
   "id": "f59819f0",
   "metadata": {
    "deletable": false,
    "execution": {
     "iopub.execute_input": "2023-11-16T12:16:22.992219Z",
     "iopub.status.busy": "2023-11-16T12:16:22.991481Z",
     "iopub.status.idle": "2023-11-16T12:16:23.337717Z",
     "shell.execute_reply": "2023-11-16T12:16:23.336242Z"
    },
    "nbgrader": {
     "cell_type": "code",
     "checksum": "7c42b84da922bc9ef6b74361d6774ac4",
     "grade": false,
     "grade_id": "hw2-task13-solution",
     "locked": false,
     "schema_version": 3,
     "solution": true,
     "task": false
    },
    "papermill": {
     "duration": 0.377001,
     "end_time": "2023-11-16T12:16:23.341131",
     "exception": false,
     "start_time": "2023-11-16T12:16:22.964130",
     "status": "completed"
    },
    "tags": []
   },
   "outputs": [
    {
     "data": {
      "image/png": "[encoded data removed]",
      "text/plain": [
       "<Figure size 640x480 with 1 Axes>"
      ]
     },
     "metadata": {},
     "output_type": "display_data"
    }
   ],
   "source": [
    "gauss_m = GaussianMixture(n_components=2, random_state=33)\n",
    "gauss_m.fit(X)\n",
    "labels = gauss_m.predict(X)\n",
    "\n",
    "plt.scatter(fa_model[:, 0], fa_model[:, 1], c=labels)\n",
    "plt.show()"
   ]
  },
  {
   "cell_type": "markdown",
   "id": "dc02f0cb",
   "metadata": {
    "deletable": false,
    "nbgrader": {
     "cell_type": "markdown",
     "checksum": "d6f4e2cb13a7c7700e7e303c99de9897",
     "grade": false,
     "grade_id": "hw2-task14-description",
     "locked": true,
     "schema_version": 3,
     "solution": false,
     "task": false
    },
    "papermill": {
     "duration": 0.025571,
     "end_time": "2023-11-16T12:16:23.454295",
     "exception": false,
     "start_time": "2023-11-16T12:16:23.428724",
     "status": "completed"
    },
    "tags": []
   },
   "source": [
    "### Task 02.14\n",
    "\n",
    "Using `sklearn.mixture.GaussianMixture`, perform a cluster analysis of the latent space representation according to factor analysis with `n_components = 3`. Provide a scatter plot, where the color of each point represents the cluster membership."
   ]
  },
  {
   "cell_type": "code",
   "execution_count": 89,
   "id": "4bbd0a9d",
   "metadata": {
    "deletable": false,
    "execution": {
     "iopub.execute_input": "2023-11-16T12:16:23.508369Z",
     "iopub.status.busy": "2023-11-16T12:16:23.507708Z",
     "iopub.status.idle": "2023-11-16T12:16:23.859683Z",
     "shell.execute_reply": "2023-11-16T12:16:23.858385Z"
    },
    "nbgrader": {
     "cell_type": "code",
     "checksum": "74d26b85ee7526357e8f31e11753f740",
     "grade": false,
     "grade_id": "hw2-task14-solution",
     "locked": false,
     "schema_version": 3,
     "solution": true,
     "task": false
    },
    "papermill": {
     "duration": 0.382314,
     "end_time": "2023-11-16T12:16:23.862675",
     "exception": false,
     "start_time": "2023-11-16T12:16:23.480361",
     "status": "completed"
    },
    "tags": []
   },
   "outputs": [
    {
     "data": {
      "image/png": "[encoded data removed]",
      "text/plain": [
       "<Figure size 640x480 with 1 Axes>"
      ]
     },
     "metadata": {},
     "output_type": "display_data"
    }
   ],
   "source": [
    "gauss_m_three = GaussianMixture(n_components=3, random_state=33)\n",
    "gauss_m_three.fit(X)\n",
    "labels_three = gauss_m_three.predict(X)\n",
    "\n",
    "plt.scatter(fa_model[:, 0], fa_model[:, 1], c=labels_three)\n",
    "plt.show()"
   ]
  },
  {
   "cell_type": "markdown",
   "id": "9b8a1a06",
   "metadata": {
    "deletable": false,
    "nbgrader": {
     "cell_type": "markdown",
     "checksum": "aa366ed781b8604e1eb6034e7435dd65",
     "grade": false,
     "grade_id": "hw2-task15-description",
     "locked": true,
     "schema_version": 3,
     "solution": false,
     "task": false
    },
    "papermill": {
     "duration": 0.026436,
     "end_time": "2023-11-16T12:16:23.979628",
     "exception": false,
     "start_time": "2023-11-16T12:16:23.953192",
     "status": "completed"
    },
    "tags": []
   },
   "source": [
    "### Task 02.15\n",
    "\n",
    "Print the mean feature values for each cluster. Try to interpret the clusters: What are the mean differences between the clusters? How would you name each cluster?"
   ]
  },
  {
   "cell_type": "code",
   "execution_count": 90,
   "id": "ae7db8d1",
   "metadata": {
    "deletable": false,
    "execution": {
     "iopub.execute_input": "2023-11-16T12:16:24.036322Z",
     "iopub.status.busy": "2023-11-16T12:16:24.035356Z",
     "iopub.status.idle": "2023-11-16T12:16:24.047398Z",
     "shell.execute_reply": "2023-11-16T12:16:24.045430Z"
    },
    "nbgrader": {
     "cell_type": "code",
     "checksum": "3c7dbefa6acdc09d178cf963f5bb965f",
     "grade": true,
     "grade_id": "hw2-task15-solution",
     "locked": false,
     "points": 1,
     "schema_version": 3,
     "solution": true,
     "task": false
    },
    "papermill": {
     "duration": 0.043507,
     "end_time": "2023-11-16T12:16:24.050348",
     "exception": false,
     "start_time": "2023-11-16T12:16:24.006841",
     "status": "completed"
    },
    "tags": []
   },
   "outputs": [
    {
     "name": "stdout",
     "output_type": "stream",
     "text": [
      "\n",
      "Mean feature values for cluster: 0:\n",
      "\n",
      "__________________________________________________\n",
      "Feature num_forum_postings: 0.37424242424242404\n",
      "Feature num_questions: 0.27757575757575753\n",
      "Feature num_messages: 0.28754208754208754\n",
      "Feature num_completed_tasks: 1.0\n",
      "Feature points_exercise_1: 0.6377373737373738\n",
      "Feature points_exercise_2: 0.6357171717171713\n",
      "Feature points_exercise_3: 0.6065976217874952\n",
      "Feature points_exercise_4: 0.6052934407364785\n",
      "Feature points_exercise_5: 0.620668220668221\n",
      "__________________________________________________\n",
      "\n",
      "Mean feature values for cluster: 1:\n",
      "\n",
      "__________________________________________________\n",
      "Feature num_forum_postings: 0.017295597484276722\n",
      "Feature num_questions: 0.0\n",
      "Feature num_messages: 0.0\n",
      "Feature num_completed_tasks: 0.21509433962264146\n",
      "Feature points_exercise_1: 0.14943396226415093\n",
      "Feature points_exercise_2: 0.08251572327044022\n",
      "Feature points_exercise_3: 0.03773584905660377\n",
      "Feature points_exercise_4: 0.022450441843802245\n",
      "Feature points_exercise_5: 0.0\n",
      "__________________________________________________\n",
      "\n",
      "Mean feature values for cluster: 2:\n",
      "\n",
      "__________________________________________________\n",
      "Feature num_forum_postings: 0.5897435897435899\n",
      "Feature num_questions: 0.5692307692307692\n",
      "Feature num_messages: 0.5726495726495726\n",
      "Feature num_completed_tasks: 0.7076923076923076\n",
      "Feature points_exercise_1: 0.6502564102564102\n",
      "Feature points_exercise_2: 0.633846153846154\n",
      "Feature points_exercise_3: 0.6027263875365141\n",
      "Feature points_exercise_4: 0.36708860759493667\n",
      "Feature points_exercise_5: 0.0\n",
      "__________________________________________________\n"
     ]
    }
   ],
   "source": [
    "d_clusters = np.column_stack((X, labels_three))\n",
    "u_clusters = np.unique(labels_three)\n",
    "\n",
    "for cluster in u_clusters:\n",
    "    cl_data = d_clusters[d_clusters[:, -1] == cluster, :-1]\n",
    "    mean_val = np.mean(cl_data, axis=0)\n",
    "    print(f\"\\nMean feature values for cluster: {cluster}:\\n\")\n",
    "    print(\"__________________________________________________\")\n",
    "    for idx, mean in enumerate(mean_val):\n",
    "        print(f\"Feature {features[idx]}: {mean}\")\n",
    "    print(\"__________________________________________________\")    "
   ]
  },
  {
   "cell_type": "markdown",
   "id": "1bd3e5cd",
   "metadata": {
    "deletable": false,
    "nbgrader": {
     "cell_type": "markdown",
     "checksum": "a76791a0450d6df4679cf71e41697ecb",
     "grade": true,
     "grade_id": "hw2-task15-interpretation",
     "locked": false,
     "points": 1,
     "schema_version": 3,
     "solution": true,
     "task": false
    },
    "papermill": {
     "duration": 0.026452,
     "end_time": "2023-11-16T12:16:24.104736",
     "exception": false,
     "start_time": "2023-11-16T12:16:24.078284",
     "status": "completed"
    },
    "tags": []
   },
   "source": [
    "Cluster 0: Contains students that achieved high scores, but didnt necessarily participated on the forum. \\\n",
    "Cluster 1: Contains students that had low scores and didnt participate on the forum. \\\n",
    "Cluster 2: Contains students that participated on the forum, but had a mid level score overall."
   ]
  },
  {
   "cell_type": "markdown",
   "id": "09d96383",
   "metadata": {
    "deletable": false,
    "nbgrader": {
     "cell_type": "markdown",
     "checksum": "6fa357fa42235bd4efc33409e7c51e91",
     "grade": false,
     "grade_id": "hw2-task16-description",
     "locked": true,
     "schema_version": 3,
     "solution": false,
     "task": false
    },
    "papermill": {
     "duration": 0.028741,
     "end_time": "2023-11-16T12:16:24.161544",
     "exception": false,
     "start_time": "2023-11-16T12:16:24.132803",
     "status": "completed"
    },
    "tags": []
   },
   "source": [
    "### Task 02.16\n",
    "\n",
    "Recall the equation for the expected negative log likelihood in a Gaussian mixture model from the lecture:\n",
    "\n",
    "\\begin{align*}\n",
    "Q = &\\sum_{i=1}^N \\sum_{k=1}^K -\\gamma_{k,i} \\log\\Big[ p_{X|Z}(x_i|k) \\cdot p_Z(k) \\Big]\\\\\n",
    "=& \\sum_{i=1}^N \\sum_{k=1}^K \\gamma_{k,i} \\Big(\\frac{1}{2}\\log[2\\pi \\det(\\Sigma_k)] + \\frac{1}{2} (x_i - \\mu_k)^T \\Sigma_k^{-1} (x_i - \\mu_k) - \\log[p_Z(k)]\\Big)\n",
    "\\end{align*}\n",
    "\n",
    "Assuming that $Q$ is convex, find the optimal values for $\\mu_k$ and $\\Sigma_k$\n",
    "\n",
    "**HINT:** You may use the following general matrix/vector gradient equations (refer to the [matrix cook book by Peterson and Pedersen (2012), p.10-11](https://www.math.uwaterloo.ca/~hwolkowi/matrixcookbook.pdf) :\n",
    "\\begin{align*}\n",
    "\\nabla_x (x - y)^T W (x - y) &= 2 W (x-y) \\\\\n",
    "\\nabla_W (x - y)^T W (x - y) &= (x-y)(x-y)^T \\\\\n",
    "\\nabla_{W^{-1}} \\log[\\det(W)] &= -W & \\text{if $W$ is symmetric and positive semi-definite}\n",
    "\\end{align*}"
   ]
  },
  {
   "cell_type": "markdown",
   "id": "df68bd1d",
   "metadata": {
    "deletable": false,
    "nbgrader": {
     "cell_type": "markdown",
     "checksum": "0149e6d31cf595e92f9a71acdfb8643b",
     "grade": true,
     "grade_id": "hw2-task16-solution",
     "locked": false,
     "points": 1,
     "schema_version": 3,
     "solution": true,
     "task": false
    },
    "papermill": {
     "duration": 0.026453,
     "end_time": "2023-11-16T12:16:24.215145",
     "exception": false,
     "start_time": "2023-11-16T12:16:24.188692",
     "status": "completed"
    },
    "tags": []
   },
   "source": [
    "YOUR ANSWER HERE"
   ]
  }
 ],
 "metadata": {
  "kaggle": {
   "accelerator": "none",
   "dataSources": [
    {
     "datasetId": 3984075,
     "sourceId": 6937669,
     "sourceType": "datasetVersion"
    }
   ],
   "dockerImageVersionId": 30579,
   "isGpuEnabled": false,
   "isInternetEnabled": true,
   "language": "python",
   "sourceType": "notebook"
  },
  "kernelspec": {
   "display_name": "Python 3",
   "language": "python",
   "name": "python3"
  },
  "language_info": {
   "codemirror_mode": {
    "name": "ipython",
    "version": 3
   },
   "file_extension": ".py",
   "mimetype": "text/x-python",
   "name": "python",
   "nbconvert_exporter": "python",
   "pygments_lexer": "ipython3",
   "version": "3.11.5"
  },
  "papermill": {
   "default_parameters": {},
   "duration": 13.934658,
   "end_time": "2023-11-16T12:16:24.865307",
   "environment_variables": {},
   "exception": null,
   "input_path": "__notebook__.ipynb",
   "output_path": "__notebook__.ipynb",
   "parameters": {},
   "start_time": "2023-11-16T12:16:10.930649",
   "version": "2.4.0"
  }
 },
 "nbformat": 4,
 "nbformat_minor": 5
}
